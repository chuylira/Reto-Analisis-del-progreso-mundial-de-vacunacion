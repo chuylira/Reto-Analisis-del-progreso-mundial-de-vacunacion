{
  "nbformat": 4,
  "nbformat_minor": 0,
  "metadata": {
    "colab": {
      "name": "DS_C2_SC2_JESUSLIRA.ipynb",
      "provenance": [],
      "collapsed_sections": []
    },
    "kernelspec": {
      "name": "python3",
      "display_name": "Python 3"
    },
    "language_info": {
      "name": "python"
    }
  },
  "cells": [
    {
      "cell_type": "markdown",
      "source": [
        "a) Extraer la información del archivo\n"
      ],
      "metadata": {
        "id": "yUYBsXudj1fp"
      }
    },
    {
      "cell_type": "code",
      "source": [
        "import pandas as pd\n",
        "cvacc=pd.read_csv('/content/drive/MyDrive/Data Scientist TLG/Pandas y Numpy/country_vaccinations.csv')"
      ],
      "metadata": {
        "id": "4ezeAYocj6QW"
      },
      "execution_count": 44,
      "outputs": []
    },
    {
      "cell_type": "markdown",
      "source": [
        "b) Mostrar la estructura y tipos de datos de cada columna para identificar qué operaciones puedes realizar con cada una de ellas, asegurándote que las columnas con fechas sean del tipo datetime64"
      ],
      "metadata": {
        "id": "J4PwQOi8mHJe"
      }
    },
    {
      "cell_type": "code",
      "source": [
        "cvacc['date']=pd.to_datetime(cvacc['date'])\n",
        "cvacc.info()"
      ],
      "metadata": {
        "colab": {
          "base_uri": "https://localhost:8080/"
        },
        "id": "Xwun7ph0mOfV",
        "outputId": "62cdf147-b597-4f00-a1ab-1baae4a6c2e6"
      },
      "execution_count": 45,
      "outputs": [
        {
          "output_type": "stream",
          "name": "stdout",
          "text": [
            "<class 'pandas.core.frame.DataFrame'>\n",
            "RangeIndex: 86512 entries, 0 to 86511\n",
            "Data columns (total 15 columns):\n",
            " #   Column                               Non-Null Count  Dtype         \n",
            "---  ------                               --------------  -----         \n",
            " 0   country                              86512 non-null  object        \n",
            " 1   iso_code                             86512 non-null  object        \n",
            " 2   date                                 86512 non-null  datetime64[ns]\n",
            " 3   total_vaccinations                   43607 non-null  float64       \n",
            " 4   people_vaccinated                    41294 non-null  float64       \n",
            " 5   people_fully_vaccinated              38802 non-null  float64       \n",
            " 6   daily_vaccinations_raw               35362 non-null  float64       \n",
            " 7   daily_vaccinations                   86213 non-null  float64       \n",
            " 8   total_vaccinations_per_hundred       43607 non-null  float64       \n",
            " 9   people_vaccinated_per_hundred        41294 non-null  float64       \n",
            " 10  people_fully_vaccinated_per_hundred  38802 non-null  float64       \n",
            " 11  daily_vaccinations_per_million       86213 non-null  float64       \n",
            " 12  vaccines                             86512 non-null  object        \n",
            " 13  source_name                          86512 non-null  object        \n",
            " 14  source_website                       86512 non-null  object        \n",
            "dtypes: datetime64[ns](1), float64(9), object(5)\n",
            "memory usage: 9.9+ MB\n"
          ]
        }
      ]
    },
    {
      "cell_type": "markdown",
      "source": [
        "c) Determinar la cantidad de vacunas aplicadas de cada compañía (con base en cómo lo reporta cada país en la columna vaccines)."
      ],
      "metadata": {
        "id": "Kj27vHkom9vR"
      }
    },
    {
      "cell_type": "code",
      "source": [
        "cvacc[['daily_vaccinations','vaccines']].groupby('vaccines').sum()"
      ],
      "metadata": {
        "colab": {
          "base_uri": "https://localhost:8080/",
          "height": 455
        },
        "id": "AaZyuK1prnn4",
        "outputId": "b0cc20aa-6167-4091-ff52-5da82cd37f6a"
      },
      "execution_count": 46,
      "outputs": [
        {
          "output_type": "execute_result",
          "data": {
            "text/plain": [
              "                                                    daily_vaccinations\n",
              "vaccines                                                              \n",
              "Abdala, Johnson&Johnson, Oxford/AstraZeneca, Pf...           9616160.0\n",
              "Abdala, Moderna, Oxford/AstraZeneca, Pfizer/Bio...         201816053.0\n",
              "Abdala, Sinopharm/Beijing, Sinovac, Soberana02,...          37861146.0\n",
              "Abdala, Soberana Plus, Soberana02                           33802957.0\n",
              "COVIran Barekat, Covaxin, FAKHRAVAC, Oxford/Ast...         146357015.0\n",
              "...                                                                ...\n",
              "Pfizer/BioNTech, Sinovac, Turkovac                         147484328.0\n",
              "Pfizer/BioNTech, Sputnik V                                     68643.0\n",
              "QazVac, Sinopharm/Beijing, Sputnik V                        20891256.0\n",
              "Sinopharm/Beijing                                             893824.0\n",
              "Sinopharm/Beijing, Sputnik V                                14398697.0\n",
              "\n",
              "[84 rows x 1 columns]"
            ],
            "text/html": [
              "\n",
              "  <div id=\"df-2c749e99-039e-4055-8456-fd9b4e987f00\">\n",
              "    <div class=\"colab-df-container\">\n",
              "      <div>\n",
              "<style scoped>\n",
              "    .dataframe tbody tr th:only-of-type {\n",
              "        vertical-align: middle;\n",
              "    }\n",
              "\n",
              "    .dataframe tbody tr th {\n",
              "        vertical-align: top;\n",
              "    }\n",
              "\n",
              "    .dataframe thead th {\n",
              "        text-align: right;\n",
              "    }\n",
              "</style>\n",
              "<table border=\"1\" class=\"dataframe\">\n",
              "  <thead>\n",
              "    <tr style=\"text-align: right;\">\n",
              "      <th></th>\n",
              "      <th>daily_vaccinations</th>\n",
              "    </tr>\n",
              "    <tr>\n",
              "      <th>vaccines</th>\n",
              "      <th></th>\n",
              "    </tr>\n",
              "  </thead>\n",
              "  <tbody>\n",
              "    <tr>\n",
              "      <th>Abdala, Johnson&amp;Johnson, Oxford/AstraZeneca, Pfizer/BioNTech, Soberana02, Sputnik Light, Sputnik V</th>\n",
              "      <td>9616160.0</td>\n",
              "    </tr>\n",
              "    <tr>\n",
              "      <th>Abdala, Moderna, Oxford/AstraZeneca, Pfizer/BioNTech, Sinopharm/Beijing, Sputnik V</th>\n",
              "      <td>201816053.0</td>\n",
              "    </tr>\n",
              "    <tr>\n",
              "      <th>Abdala, Sinopharm/Beijing, Sinovac, Soberana02, Sputnik Light, Sputnik V</th>\n",
              "      <td>37861146.0</td>\n",
              "    </tr>\n",
              "    <tr>\n",
              "      <th>Abdala, Soberana Plus, Soberana02</th>\n",
              "      <td>33802957.0</td>\n",
              "    </tr>\n",
              "    <tr>\n",
              "      <th>COVIran Barekat, Covaxin, FAKHRAVAC, Oxford/AstraZeneca, Razi Cov Pars, Sinopharm/Beijing, Soberana02, SpikoGen, Sputnik V</th>\n",
              "      <td>146357015.0</td>\n",
              "    </tr>\n",
              "    <tr>\n",
              "      <th>...</th>\n",
              "      <td>...</td>\n",
              "    </tr>\n",
              "    <tr>\n",
              "      <th>Pfizer/BioNTech, Sinovac, Turkovac</th>\n",
              "      <td>147484328.0</td>\n",
              "    </tr>\n",
              "    <tr>\n",
              "      <th>Pfizer/BioNTech, Sputnik V</th>\n",
              "      <td>68643.0</td>\n",
              "    </tr>\n",
              "    <tr>\n",
              "      <th>QazVac, Sinopharm/Beijing, Sputnik V</th>\n",
              "      <td>20891256.0</td>\n",
              "    </tr>\n",
              "    <tr>\n",
              "      <th>Sinopharm/Beijing</th>\n",
              "      <td>893824.0</td>\n",
              "    </tr>\n",
              "    <tr>\n",
              "      <th>Sinopharm/Beijing, Sputnik V</th>\n",
              "      <td>14398697.0</td>\n",
              "    </tr>\n",
              "  </tbody>\n",
              "</table>\n",
              "<p>84 rows × 1 columns</p>\n",
              "</div>\n",
              "      <button class=\"colab-df-convert\" onclick=\"convertToInteractive('df-2c749e99-039e-4055-8456-fd9b4e987f00')\"\n",
              "              title=\"Convert this dataframe to an interactive table.\"\n",
              "              style=\"display:none;\">\n",
              "        \n",
              "  <svg xmlns=\"http://www.w3.org/2000/svg\" height=\"24px\"viewBox=\"0 0 24 24\"\n",
              "       width=\"24px\">\n",
              "    <path d=\"M0 0h24v24H0V0z\" fill=\"none\"/>\n",
              "    <path d=\"M18.56 5.44l.94 2.06.94-2.06 2.06-.94-2.06-.94-.94-2.06-.94 2.06-2.06.94zm-11 1L8.5 8.5l.94-2.06 2.06-.94-2.06-.94L8.5 2.5l-.94 2.06-2.06.94zm10 10l.94 2.06.94-2.06 2.06-.94-2.06-.94-.94-2.06-.94 2.06-2.06.94z\"/><path d=\"M17.41 7.96l-1.37-1.37c-.4-.4-.92-.59-1.43-.59-.52 0-1.04.2-1.43.59L10.3 9.45l-7.72 7.72c-.78.78-.78 2.05 0 2.83L4 21.41c.39.39.9.59 1.41.59.51 0 1.02-.2 1.41-.59l7.78-7.78 2.81-2.81c.8-.78.8-2.07 0-2.86zM5.41 20L4 18.59l7.72-7.72 1.47 1.35L5.41 20z\"/>\n",
              "  </svg>\n",
              "      </button>\n",
              "      \n",
              "  <style>\n",
              "    .colab-df-container {\n",
              "      display:flex;\n",
              "      flex-wrap:wrap;\n",
              "      gap: 12px;\n",
              "    }\n",
              "\n",
              "    .colab-df-convert {\n",
              "      background-color: #E8F0FE;\n",
              "      border: none;\n",
              "      border-radius: 50%;\n",
              "      cursor: pointer;\n",
              "      display: none;\n",
              "      fill: #1967D2;\n",
              "      height: 32px;\n",
              "      padding: 0 0 0 0;\n",
              "      width: 32px;\n",
              "    }\n",
              "\n",
              "    .colab-df-convert:hover {\n",
              "      background-color: #E2EBFA;\n",
              "      box-shadow: 0px 1px 2px rgba(60, 64, 67, 0.3), 0px 1px 3px 1px rgba(60, 64, 67, 0.15);\n",
              "      fill: #174EA6;\n",
              "    }\n",
              "\n",
              "    [theme=dark] .colab-df-convert {\n",
              "      background-color: #3B4455;\n",
              "      fill: #D2E3FC;\n",
              "    }\n",
              "\n",
              "    [theme=dark] .colab-df-convert:hover {\n",
              "      background-color: #434B5C;\n",
              "      box-shadow: 0px 1px 3px 1px rgba(0, 0, 0, 0.15);\n",
              "      filter: drop-shadow(0px 1px 2px rgba(0, 0, 0, 0.3));\n",
              "      fill: #FFFFFF;\n",
              "    }\n",
              "  </style>\n",
              "\n",
              "      <script>\n",
              "        const buttonEl =\n",
              "          document.querySelector('#df-2c749e99-039e-4055-8456-fd9b4e987f00 button.colab-df-convert');\n",
              "        buttonEl.style.display =\n",
              "          google.colab.kernel.accessAllowed ? 'block' : 'none';\n",
              "\n",
              "        async function convertToInteractive(key) {\n",
              "          const element = document.querySelector('#df-2c749e99-039e-4055-8456-fd9b4e987f00');\n",
              "          const dataTable =\n",
              "            await google.colab.kernel.invokeFunction('convertToInteractive',\n",
              "                                                     [key], {});\n",
              "          if (!dataTable) return;\n",
              "\n",
              "          const docLinkHtml = 'Like what you see? Visit the ' +\n",
              "            '<a target=\"_blank\" href=https://colab.research.google.com/notebooks/data_table.ipynb>data table notebook</a>'\n",
              "            + ' to learn more about interactive tables.';\n",
              "          element.innerHTML = '';\n",
              "          dataTable['output_type'] = 'display_data';\n",
              "          await google.colab.output.renderOutput(dataTable, element);\n",
              "          const docLink = document.createElement('div');\n",
              "          docLink.innerHTML = docLinkHtml;\n",
              "          element.appendChild(docLink);\n",
              "        }\n",
              "      </script>\n",
              "    </div>\n",
              "  </div>\n",
              "  "
            ]
          },
          "metadata": {},
          "execution_count": 46
        }
      ]
    },
    {
      "cell_type": "markdown",
      "source": [
        "d) Obtener la cantidad de vacunas aplicadas en todo el mundo. "
      ],
      "metadata": {
        "id": "T3LH1bYwvt52"
      }
    },
    {
      "cell_type": "code",
      "source": [
        "cvacc['daily_vaccinations'].sum()"
      ],
      "metadata": {
        "colab": {
          "base_uri": "https://localhost:8080/"
        },
        "id": "zl4WlLQYvw7t",
        "outputId": "6ef53f7c-fc27-407e-b986-cffdc0796141"
      },
      "execution_count": 47,
      "outputs": [
        {
          "output_type": "execute_result",
          "data": {
            "text/plain": [
              "11320239871.0"
            ]
          },
          "metadata": {},
          "execution_count": 47
        }
      ]
    },
    {
      "cell_type": "markdown",
      "source": [
        "e) Calcular el promedio de vacunas aplicadas por país. "
      ],
      "metadata": {
        "id": "lh1i37pYv4Il"
      }
    },
    {
      "cell_type": "code",
      "source": [
        "cvacc[['daily_vaccinations','country']].groupby('country').mean()"
      ],
      "metadata": {
        "colab": {
          "base_uri": "https://localhost:8080/",
          "height": 455
        },
        "id": "2pYV9I1zwE9C",
        "outputId": "1917f2b5-d9d3-40d4-c780-f8bc32c0f33d"
      },
      "execution_count": 48,
      "outputs": [
        {
          "output_type": "execute_result",
          "data": {
            "text/plain": [
              "                   daily_vaccinations\n",
              "country                              \n",
              "Afghanistan              14610.681934\n",
              "Albania                   6276.210046\n",
              "Algeria                  33904.356436\n",
              "Andorra                    367.716019\n",
              "Angola                   44821.457584\n",
              "...                               ...\n",
              "Wales                    15518.411765\n",
              "Wallis and Futuna           33.886486\n",
              "Yemen                     2556.115756\n",
              "Zambia                    9649.805158\n",
              "Zimbabwe                 21669.066832\n",
              "\n",
              "[223 rows x 1 columns]"
            ],
            "text/html": [
              "\n",
              "  <div id=\"df-056b635e-82bd-4dc5-aeb9-6c1ca3db43cd\">\n",
              "    <div class=\"colab-df-container\">\n",
              "      <div>\n",
              "<style scoped>\n",
              "    .dataframe tbody tr th:only-of-type {\n",
              "        vertical-align: middle;\n",
              "    }\n",
              "\n",
              "    .dataframe tbody tr th {\n",
              "        vertical-align: top;\n",
              "    }\n",
              "\n",
              "    .dataframe thead th {\n",
              "        text-align: right;\n",
              "    }\n",
              "</style>\n",
              "<table border=\"1\" class=\"dataframe\">\n",
              "  <thead>\n",
              "    <tr style=\"text-align: right;\">\n",
              "      <th></th>\n",
              "      <th>daily_vaccinations</th>\n",
              "    </tr>\n",
              "    <tr>\n",
              "      <th>country</th>\n",
              "      <th></th>\n",
              "    </tr>\n",
              "  </thead>\n",
              "  <tbody>\n",
              "    <tr>\n",
              "      <th>Afghanistan</th>\n",
              "      <td>14610.681934</td>\n",
              "    </tr>\n",
              "    <tr>\n",
              "      <th>Albania</th>\n",
              "      <td>6276.210046</td>\n",
              "    </tr>\n",
              "    <tr>\n",
              "      <th>Algeria</th>\n",
              "      <td>33904.356436</td>\n",
              "    </tr>\n",
              "    <tr>\n",
              "      <th>Andorra</th>\n",
              "      <td>367.716019</td>\n",
              "    </tr>\n",
              "    <tr>\n",
              "      <th>Angola</th>\n",
              "      <td>44821.457584</td>\n",
              "    </tr>\n",
              "    <tr>\n",
              "      <th>...</th>\n",
              "      <td>...</td>\n",
              "    </tr>\n",
              "    <tr>\n",
              "      <th>Wales</th>\n",
              "      <td>15518.411765</td>\n",
              "    </tr>\n",
              "    <tr>\n",
              "      <th>Wallis and Futuna</th>\n",
              "      <td>33.886486</td>\n",
              "    </tr>\n",
              "    <tr>\n",
              "      <th>Yemen</th>\n",
              "      <td>2556.115756</td>\n",
              "    </tr>\n",
              "    <tr>\n",
              "      <th>Zambia</th>\n",
              "      <td>9649.805158</td>\n",
              "    </tr>\n",
              "    <tr>\n",
              "      <th>Zimbabwe</th>\n",
              "      <td>21669.066832</td>\n",
              "    </tr>\n",
              "  </tbody>\n",
              "</table>\n",
              "<p>223 rows × 1 columns</p>\n",
              "</div>\n",
              "      <button class=\"colab-df-convert\" onclick=\"convertToInteractive('df-056b635e-82bd-4dc5-aeb9-6c1ca3db43cd')\"\n",
              "              title=\"Convert this dataframe to an interactive table.\"\n",
              "              style=\"display:none;\">\n",
              "        \n",
              "  <svg xmlns=\"http://www.w3.org/2000/svg\" height=\"24px\"viewBox=\"0 0 24 24\"\n",
              "       width=\"24px\">\n",
              "    <path d=\"M0 0h24v24H0V0z\" fill=\"none\"/>\n",
              "    <path d=\"M18.56 5.44l.94 2.06.94-2.06 2.06-.94-2.06-.94-.94-2.06-.94 2.06-2.06.94zm-11 1L8.5 8.5l.94-2.06 2.06-.94-2.06-.94L8.5 2.5l-.94 2.06-2.06.94zm10 10l.94 2.06.94-2.06 2.06-.94-2.06-.94-.94-2.06-.94 2.06-2.06.94z\"/><path d=\"M17.41 7.96l-1.37-1.37c-.4-.4-.92-.59-1.43-.59-.52 0-1.04.2-1.43.59L10.3 9.45l-7.72 7.72c-.78.78-.78 2.05 0 2.83L4 21.41c.39.39.9.59 1.41.59.51 0 1.02-.2 1.41-.59l7.78-7.78 2.81-2.81c.8-.78.8-2.07 0-2.86zM5.41 20L4 18.59l7.72-7.72 1.47 1.35L5.41 20z\"/>\n",
              "  </svg>\n",
              "      </button>\n",
              "      \n",
              "  <style>\n",
              "    .colab-df-container {\n",
              "      display:flex;\n",
              "      flex-wrap:wrap;\n",
              "      gap: 12px;\n",
              "    }\n",
              "\n",
              "    .colab-df-convert {\n",
              "      background-color: #E8F0FE;\n",
              "      border: none;\n",
              "      border-radius: 50%;\n",
              "      cursor: pointer;\n",
              "      display: none;\n",
              "      fill: #1967D2;\n",
              "      height: 32px;\n",
              "      padding: 0 0 0 0;\n",
              "      width: 32px;\n",
              "    }\n",
              "\n",
              "    .colab-df-convert:hover {\n",
              "      background-color: #E2EBFA;\n",
              "      box-shadow: 0px 1px 2px rgba(60, 64, 67, 0.3), 0px 1px 3px 1px rgba(60, 64, 67, 0.15);\n",
              "      fill: #174EA6;\n",
              "    }\n",
              "\n",
              "    [theme=dark] .colab-df-convert {\n",
              "      background-color: #3B4455;\n",
              "      fill: #D2E3FC;\n",
              "    }\n",
              "\n",
              "    [theme=dark] .colab-df-convert:hover {\n",
              "      background-color: #434B5C;\n",
              "      box-shadow: 0px 1px 3px 1px rgba(0, 0, 0, 0.15);\n",
              "      filter: drop-shadow(0px 1px 2px rgba(0, 0, 0, 0.3));\n",
              "      fill: #FFFFFF;\n",
              "    }\n",
              "  </style>\n",
              "\n",
              "      <script>\n",
              "        const buttonEl =\n",
              "          document.querySelector('#df-056b635e-82bd-4dc5-aeb9-6c1ca3db43cd button.colab-df-convert');\n",
              "        buttonEl.style.display =\n",
              "          google.colab.kernel.accessAllowed ? 'block' : 'none';\n",
              "\n",
              "        async function convertToInteractive(key) {\n",
              "          const element = document.querySelector('#df-056b635e-82bd-4dc5-aeb9-6c1ca3db43cd');\n",
              "          const dataTable =\n",
              "            await google.colab.kernel.invokeFunction('convertToInteractive',\n",
              "                                                     [key], {});\n",
              "          if (!dataTable) return;\n",
              "\n",
              "          const docLinkHtml = 'Like what you see? Visit the ' +\n",
              "            '<a target=\"_blank\" href=https://colab.research.google.com/notebooks/data_table.ipynb>data table notebook</a>'\n",
              "            + ' to learn more about interactive tables.';\n",
              "          element.innerHTML = '';\n",
              "          dataTable['output_type'] = 'display_data';\n",
              "          await google.colab.output.renderOutput(dataTable, element);\n",
              "          const docLink = document.createElement('div');\n",
              "          docLink.innerHTML = docLinkHtml;\n",
              "          element.appendChild(docLink);\n",
              "        }\n",
              "      </script>\n",
              "    </div>\n",
              "  </div>\n",
              "  "
            ]
          },
          "metadata": {},
          "execution_count": 48
        }
      ]
    },
    {
      "cell_type": "markdown",
      "source": [
        "f) Determinar la cantidad de vacunas aplicadas el día 29/01/21 en todo el mundo. "
      ],
      "metadata": {
        "id": "TW6WZGUBsyy1"
      }
    },
    {
      "cell_type": "code",
      "source": [
        "cvacc.loc[cvacc['date']=='2021-01-29','daily_vaccinations'].sum()"
      ],
      "metadata": {
        "colab": {
          "base_uri": "https://localhost:8080/"
        },
        "id": "9Ahni6HPsCvk",
        "outputId": "8c424758-f388-4213-9ea1-f9c7e42a9c82"
      },
      "execution_count": 50,
      "outputs": [
        {
          "output_type": "execute_result",
          "data": {
            "text/plain": [
              "4884052.0"
            ]
          },
          "metadata": {},
          "execution_count": 50
        }
      ]
    },
    {
      "cell_type": "markdown",
      "source": [
        "g) Crear un dataframe nuevo denominado conDiferencias que contenga los datos originales y una columna derivada (diferencias) con las diferencias de aplicación entre las columnas daily_vaccionations y daily_vaccionations_raw.  "
      ],
      "metadata": {
        "id": "UQyaqxOest99"
      }
    },
    {
      "cell_type": "code",
      "source": [
        "conDiferencias=cvacc.copy()\n",
        "conDiferencias['diferencias']=conDiferencias['daily_vaccinations']-conDiferencias['daily_vaccinations_raw']"
      ],
      "metadata": {
        "id": "6Ua8XIk3stRb"
      },
      "execution_count": 51,
      "outputs": []
    },
    {
      "cell_type": "markdown",
      "source": [
        "h) Obtener el período de tiempo entre el registro con fecha más reciente y el registro con fecha más antigua. "
      ],
      "metadata": {
        "id": "QBQy9yv4vfMs"
      }
    },
    {
      "cell_type": "code",
      "source": [
        "periodo=max(cvacc['date'])-min(cvacc['date'])\n",
        "print(periodo)"
      ],
      "metadata": {
        "colab": {
          "base_uri": "https://localhost:8080/"
        },
        "id": "1TyrjBUKvijM",
        "outputId": "5b878505-d8bf-4375-c44e-62d3e9b06771"
      },
      "execution_count": 52,
      "outputs": [
        {
          "output_type": "stream",
          "name": "stdout",
          "text": [
            "482 days 00:00:00\n"
          ]
        }
      ]
    },
    {
      "cell_type": "markdown",
      "source": [
        "i) Crear un dataframe nuevo denominado conCantidad que contenga los datos originales y una columna derivada (canVac) con la cantidad de vacunas utilizadas cada día (usar la columna vaccines y separar por el carácter /). "
      ],
      "metadata": {
        "id": "awcBV09Uvybl"
      }
    },
    {
      "cell_type": "code",
      "source": [
        "conCantidad=cvacc.copy()\n",
        "conCantidad['canVac']=conCantidad['vaccines'].str.split(',').str.len()"
      ],
      "metadata": {
        "id": "nwLANZEhv5d2"
      },
      "execution_count": 53,
      "outputs": []
    },
    {
      "cell_type": "markdown",
      "source": [
        "j) Generar un dataframe denominado antes20 con todos los registros que se hayan realizado antes del 20 de diciembre de 2020. "
      ],
      "metadata": {
        "id": "e0ipG7Lkxbbx"
      }
    },
    {
      "cell_type": "code",
      "source": [
        "antes20=cvacc[cvacc['date']<'2020-12-20']"
      ],
      "metadata": {
        "id": "46xW3mWaxgPy"
      },
      "execution_count": 54,
      "outputs": []
    },
    {
      "cell_type": "markdown",
      "source": [
        "k) Obtener un dataframe denominado pfizer con todos los registros donde se haya utilizado la vacuna Pfizer. "
      ],
      "metadata": {
        "id": "h4k_81lpyAr7"
      }
    },
    {
      "cell_type": "code",
      "source": [
        "pfizer=cvacc[cvacc['vaccines'].str.contains('pfizer',case=False)]"
      ],
      "metadata": {
        "id": "ftEt8QsQyEWT"
      },
      "execution_count": 55,
      "outputs": []
    },
    {
      "cell_type": "markdown",
      "source": [
        "l) Almacenar los dataframes generados (conDiferencias, conCantidad, antes20 y pfizer) en un archivo de Excel denominado resultadosReto.xlsx, donde cada dataframe ocupe una hoja diferente. Se recomienda ver la documentación de pd.ExcelWriter. \n",
        "\n"
      ],
      "metadata": {
        "id": "wPu4UIzUzELX"
      }
    },
    {
      "cell_type": "code",
      "source": [
        "with pd.ExcelWriter('resultadosReto.xlsx') as writer:\n",
        "  conDiferencias.to_excel(writer, sheet_name='conDiferencias')\n",
        "  conCantidad.to_excel(writer, sheet_name='conCantidad')\n",
        "  antes20.to_excel(writer, sheet_name='antes20')\n",
        "  pfizer.to_excel(writer, sheet_name='pfizer')"
      ],
      "metadata": {
        "id": "ENhjUadQzFcf"
      },
      "execution_count": 43,
      "outputs": []
    }
  ]
}